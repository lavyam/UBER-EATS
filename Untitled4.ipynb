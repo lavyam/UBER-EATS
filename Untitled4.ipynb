{
  "nbformat": 4,
  "nbformat_minor": 0,
  "metadata": {
    "colab": {
      "provenance": []
    },
    "kernelspec": {
      "name": "python3",
      "display_name": "Python 3"
    },
    "language_info": {
      "name": "python"
    }
  },
  "cells": [
    {
      "cell_type": "markdown",
      "source": [
        "#DS 121 PROJECT"
      ],
      "metadata": {
        "id": "WrqCusu3-Snl"
      }
    },
    {
      "cell_type": "markdown",
      "source": [
        "###Introduction\n",
        "My project revolves around restaurants data. I focus on regression. I use the restraunts data to see how well the data perform to predict a restraunt's rating based on factors like how expensive it is, where is it located, what score did it get and what is its position.\n",
        "\n",
        "Why I chose this project is because it was interesting find out what factors do affect a restraunt's ratings.  "
      ],
      "metadata": {
        "id": "hEhHnWrx-b7B"
      }
    },
    {
      "cell_type": "markdown",
      "source": [
        "###Data\n",
        "Link to dataset: https://www.kaggle.com/datasets/ahmedshahriarsakib/uber-eats-usa-restaurants-menus?resource=download\n",
        "\n",
        "Some of the variables in the dataset: \n",
        "\n",
        "1. position: Restaurant position in the search result\n",
        "2. name: Restaurant name\n",
        "3. score: Restaurant score\n",
        "4. ratings: Ratings count\n",
        "5. category: Restaurant category\n",
        "6. price_range: Restaurant price range \n",
        "7. full_address: Restaurant full address\n",
        "8. zip_code: Zip code\n",
        "9. lat: Latitude\n",
        "10. long: Longitude\n",
        "\n",
        "The data set comes from kaggle which is from uber-eats data.\n"
      ],
      "metadata": {
        "id": "wut0F4AyCBTW"
      }
    },
    {
      "cell_type": "markdown",
      "source": [
        "###Methodoly \n",
        "1. Get the data to work on \n",
        "2. Print the data \n",
        "3. Data cleaning an validation \n",
        "4. Performing least squares regressions\n",
        "5. Data visualizations\n",
        "6. Calculating Root Mean Squared Error.\n",
        "7. Formulating the result. "
      ],
      "metadata": {
        "id": "My-x0QwQDihV"
      }
    },
    {
      "cell_type": "markdown",
      "source": [
        "###Data Analysis"
      ],
      "metadata": {
        "id": "mZQbbk5nEN8A"
      }
    },
    {
      "cell_type": "code",
      "source": [
        "import numpy as np \n",
        "import matplotlib.pyplot as plt\n",
        "import pandas as pd\n",
        "from sklearn.preprocessing import StandardScaler\n",
        "import seaborn as sns\n",
        "import math as m"
      ],
      "metadata": {
        "id": "zFoHOMRx-RNP"
      },
      "execution_count": null,
      "outputs": []
    },
    {
      "cell_type": "code",
      "source": [
        "df=pd.read_csv(\"restaurants.csv\")\n",
        "df"
      ],
      "metadata": {
        "colab": {
          "base_uri": "https://localhost:8080/",
          "height": 905
        },
        "id": "WGGC8a_f7ejA",
        "outputId": "7aaa8c8f-cb37-4b0a-e026-3b8d072445a2"
      },
      "execution_count": null,
      "outputs": [
        {
          "output_type": "execute_result",
          "data": {
            "text/plain": [
              "          id  position                                            name  score  \\\n",
              "0          1        19               PJ Fresh (224 Daniel Payne Drive)    NaN   \n",
              "1          2         9                  J' ti`'z Smoothie-N-Coffee Bar    NaN   \n",
              "2          3         6  Philly Fresh Cheesesteaks (541-B Graymont Ave)    NaN   \n",
              "3          4        17         Papa Murphy's (1580 Montgomery Highway)    NaN   \n",
              "4          5       162                Nelson Brothers Cafe (17th St N)    4.7   \n",
              "...      ...       ...                                             ...    ...   \n",
              "40222  40223        54     Mangia la pasta! (5610 N Interstate Hwy 35)    4.8   \n",
              "40223  40224        53                   Wholly Cow Burgers  (S Lamar)    4.6   \n",
              "40224  40225        52                                 EurAsia Ramen 3    4.7   \n",
              "40225  40226        51                        Austin's Habibi (5th St)    4.7   \n",
              "40226  40227        50                                     Beijing Wok    4.4   \n",
              "\n",
              "       ratings                                           category price_range  \\\n",
              "0          NaN                      Burgers, American, Sandwiches           $   \n",
              "1          NaN   Coffee and Tea, Breakfast and Brunch, Bubble Tea         NaN   \n",
              "2          NaN         American, Cheesesteak, Sandwiches, Alcohol           $   \n",
              "3          NaN                                              Pizza           $   \n",
              "4         22.0          Breakfast and Brunch, Burgers, Sandwiches         NaN   \n",
              "...        ...                                                ...         ...   \n",
              "40222    500.0       Pasta, Comfort Food, Italian, Group Friendly           $   \n",
              "40223    245.0  American, Burgers, Breakfast and Brunch, Aller...           $   \n",
              "40224    293.0  Sushi, Asian, Japanese, Exclusive to Eats, Gro...           $   \n",
              "40225    208.0  Mediterranean, Gluten Free Friendly, Allergy F...          $$   \n",
              "40226    254.0  Chinese, Asian, Asian Fusion, Family Friendly,...           $   \n",
              "\n",
              "                                            full_address zip_code        lat  \\\n",
              "0          224 Daniel Payne Drive, Birmingham, AL, 35207    35207  33.562365   \n",
              "1      1521 Pinson Valley Parkway, Birmingham, AL, 35217    35217  33.583640   \n",
              "2              541-B Graymont Ave, Birmingham, AL, 35204    35204  33.509800   \n",
              "3             1580 Montgomery Highway, Hoover, AL, 35226    35226  33.404439   \n",
              "4                   314 17th St N, Birmingham, AL, 35203    35203  33.514730   \n",
              "...                                                  ...      ...        ...   \n",
              "40222                      5610 N I35, Austin, TX, 78751    78751  30.316248   \n",
              "40223               3010 S Lamar Blvd, Austin, TX, 78704    78704  30.242816   \n",
              "40224                5222 Burnet Road, Austin, TX, 78756    78756  30.324290   \n",
              "40225                    817 W 5th St, Austin, TX, 78703    78703  30.269580   \n",
              "40226                  8106 Brodie Ln, Austin, TX, 78749    78749  30.202210   \n",
              "\n",
              "             lng  \n",
              "0     -86.830703  \n",
              "1     -86.773330  \n",
              "2     -86.854640  \n",
              "3     -86.806614  \n",
              "4     -86.811700  \n",
              "...          ...  \n",
              "40222 -97.708441  \n",
              "40223 -97.783821  \n",
              "40224 -97.740200  \n",
              "40225 -97.753110  \n",
              "40226 -97.838689  \n",
              "\n",
              "[40227 rows x 11 columns]"
            ],
            "text/html": [
              "\n",
              "  <div id=\"df-49c2ec36-fa55-4a38-b727-ff8adecf13b6\">\n",
              "    <div class=\"colab-df-container\">\n",
              "      <div>\n",
              "<style scoped>\n",
              "    .dataframe tbody tr th:only-of-type {\n",
              "        vertical-align: middle;\n",
              "    }\n",
              "\n",
              "    .dataframe tbody tr th {\n",
              "        vertical-align: top;\n",
              "    }\n",
              "\n",
              "    .dataframe thead th {\n",
              "        text-align: right;\n",
              "    }\n",
              "</style>\n",
              "<table border=\"1\" class=\"dataframe\">\n",
              "  <thead>\n",
              "    <tr style=\"text-align: right;\">\n",
              "      <th></th>\n",
              "      <th>id</th>\n",
              "      <th>position</th>\n",
              "      <th>name</th>\n",
              "      <th>score</th>\n",
              "      <th>ratings</th>\n",
              "      <th>category</th>\n",
              "      <th>price_range</th>\n",
              "      <th>full_address</th>\n",
              "      <th>zip_code</th>\n",
              "      <th>lat</th>\n",
              "      <th>lng</th>\n",
              "    </tr>\n",
              "  </thead>\n",
              "  <tbody>\n",
              "    <tr>\n",
              "      <th>0</th>\n",
              "      <td>1</td>\n",
              "      <td>19</td>\n",
              "      <td>PJ Fresh (224 Daniel Payne Drive)</td>\n",
              "      <td>NaN</td>\n",
              "      <td>NaN</td>\n",
              "      <td>Burgers, American, Sandwiches</td>\n",
              "      <td>$</td>\n",
              "      <td>224 Daniel Payne Drive, Birmingham, AL, 35207</td>\n",
              "      <td>35207</td>\n",
              "      <td>33.562365</td>\n",
              "      <td>-86.830703</td>\n",
              "    </tr>\n",
              "    <tr>\n",
              "      <th>1</th>\n",
              "      <td>2</td>\n",
              "      <td>9</td>\n",
              "      <td>J' ti`'z Smoothie-N-Coffee Bar</td>\n",
              "      <td>NaN</td>\n",
              "      <td>NaN</td>\n",
              "      <td>Coffee and Tea, Breakfast and Brunch, Bubble Tea</td>\n",
              "      <td>NaN</td>\n",
              "      <td>1521 Pinson Valley Parkway, Birmingham, AL, 35217</td>\n",
              "      <td>35217</td>\n",
              "      <td>33.583640</td>\n",
              "      <td>-86.773330</td>\n",
              "    </tr>\n",
              "    <tr>\n",
              "      <th>2</th>\n",
              "      <td>3</td>\n",
              "      <td>6</td>\n",
              "      <td>Philly Fresh Cheesesteaks (541-B Graymont Ave)</td>\n",
              "      <td>NaN</td>\n",
              "      <td>NaN</td>\n",
              "      <td>American, Cheesesteak, Sandwiches, Alcohol</td>\n",
              "      <td>$</td>\n",
              "      <td>541-B Graymont Ave, Birmingham, AL, 35204</td>\n",
              "      <td>35204</td>\n",
              "      <td>33.509800</td>\n",
              "      <td>-86.854640</td>\n",
              "    </tr>\n",
              "    <tr>\n",
              "      <th>3</th>\n",
              "      <td>4</td>\n",
              "      <td>17</td>\n",
              "      <td>Papa Murphy's (1580 Montgomery Highway)</td>\n",
              "      <td>NaN</td>\n",
              "      <td>NaN</td>\n",
              "      <td>Pizza</td>\n",
              "      <td>$</td>\n",
              "      <td>1580 Montgomery Highway, Hoover, AL, 35226</td>\n",
              "      <td>35226</td>\n",
              "      <td>33.404439</td>\n",
              "      <td>-86.806614</td>\n",
              "    </tr>\n",
              "    <tr>\n",
              "      <th>4</th>\n",
              "      <td>5</td>\n",
              "      <td>162</td>\n",
              "      <td>Nelson Brothers Cafe (17th St N)</td>\n",
              "      <td>4.7</td>\n",
              "      <td>22.0</td>\n",
              "      <td>Breakfast and Brunch, Burgers, Sandwiches</td>\n",
              "      <td>NaN</td>\n",
              "      <td>314 17th St N, Birmingham, AL, 35203</td>\n",
              "      <td>35203</td>\n",
              "      <td>33.514730</td>\n",
              "      <td>-86.811700</td>\n",
              "    </tr>\n",
              "    <tr>\n",
              "      <th>...</th>\n",
              "      <td>...</td>\n",
              "      <td>...</td>\n",
              "      <td>...</td>\n",
              "      <td>...</td>\n",
              "      <td>...</td>\n",
              "      <td>...</td>\n",
              "      <td>...</td>\n",
              "      <td>...</td>\n",
              "      <td>...</td>\n",
              "      <td>...</td>\n",
              "      <td>...</td>\n",
              "    </tr>\n",
              "    <tr>\n",
              "      <th>40222</th>\n",
              "      <td>40223</td>\n",
              "      <td>54</td>\n",
              "      <td>Mangia la pasta! (5610 N Interstate Hwy 35)</td>\n",
              "      <td>4.8</td>\n",
              "      <td>500.0</td>\n",
              "      <td>Pasta, Comfort Food, Italian, Group Friendly</td>\n",
              "      <td>$</td>\n",
              "      <td>5610 N I35, Austin, TX, 78751</td>\n",
              "      <td>78751</td>\n",
              "      <td>30.316248</td>\n",
              "      <td>-97.708441</td>\n",
              "    </tr>\n",
              "    <tr>\n",
              "      <th>40223</th>\n",
              "      <td>40224</td>\n",
              "      <td>53</td>\n",
              "      <td>Wholly Cow Burgers  (S Lamar)</td>\n",
              "      <td>4.6</td>\n",
              "      <td>245.0</td>\n",
              "      <td>American, Burgers, Breakfast and Brunch, Aller...</td>\n",
              "      <td>$</td>\n",
              "      <td>3010 S Lamar Blvd, Austin, TX, 78704</td>\n",
              "      <td>78704</td>\n",
              "      <td>30.242816</td>\n",
              "      <td>-97.783821</td>\n",
              "    </tr>\n",
              "    <tr>\n",
              "      <th>40224</th>\n",
              "      <td>40225</td>\n",
              "      <td>52</td>\n",
              "      <td>EurAsia Ramen 3</td>\n",
              "      <td>4.7</td>\n",
              "      <td>293.0</td>\n",
              "      <td>Sushi, Asian, Japanese, Exclusive to Eats, Gro...</td>\n",
              "      <td>$</td>\n",
              "      <td>5222 Burnet Road, Austin, TX, 78756</td>\n",
              "      <td>78756</td>\n",
              "      <td>30.324290</td>\n",
              "      <td>-97.740200</td>\n",
              "    </tr>\n",
              "    <tr>\n",
              "      <th>40225</th>\n",
              "      <td>40226</td>\n",
              "      <td>51</td>\n",
              "      <td>Austin's Habibi (5th St)</td>\n",
              "      <td>4.7</td>\n",
              "      <td>208.0</td>\n",
              "      <td>Mediterranean, Gluten Free Friendly, Allergy F...</td>\n",
              "      <td>$$</td>\n",
              "      <td>817 W 5th St, Austin, TX, 78703</td>\n",
              "      <td>78703</td>\n",
              "      <td>30.269580</td>\n",
              "      <td>-97.753110</td>\n",
              "    </tr>\n",
              "    <tr>\n",
              "      <th>40226</th>\n",
              "      <td>40227</td>\n",
              "      <td>50</td>\n",
              "      <td>Beijing Wok</td>\n",
              "      <td>4.4</td>\n",
              "      <td>254.0</td>\n",
              "      <td>Chinese, Asian, Asian Fusion, Family Friendly,...</td>\n",
              "      <td>$</td>\n",
              "      <td>8106 Brodie Ln, Austin, TX, 78749</td>\n",
              "      <td>78749</td>\n",
              "      <td>30.202210</td>\n",
              "      <td>-97.838689</td>\n",
              "    </tr>\n",
              "  </tbody>\n",
              "</table>\n",
              "<p>40227 rows × 11 columns</p>\n",
              "</div>\n",
              "      <button class=\"colab-df-convert\" onclick=\"convertToInteractive('df-49c2ec36-fa55-4a38-b727-ff8adecf13b6')\"\n",
              "              title=\"Convert this dataframe to an interactive table.\"\n",
              "              style=\"display:none;\">\n",
              "        \n",
              "  <svg xmlns=\"http://www.w3.org/2000/svg\" height=\"24px\"viewBox=\"0 0 24 24\"\n",
              "       width=\"24px\">\n",
              "    <path d=\"M0 0h24v24H0V0z\" fill=\"none\"/>\n",
              "    <path d=\"M18.56 5.44l.94 2.06.94-2.06 2.06-.94-2.06-.94-.94-2.06-.94 2.06-2.06.94zm-11 1L8.5 8.5l.94-2.06 2.06-.94-2.06-.94L8.5 2.5l-.94 2.06-2.06.94zm10 10l.94 2.06.94-2.06 2.06-.94-2.06-.94-.94-2.06-.94 2.06-2.06.94z\"/><path d=\"M17.41 7.96l-1.37-1.37c-.4-.4-.92-.59-1.43-.59-.52 0-1.04.2-1.43.59L10.3 9.45l-7.72 7.72c-.78.78-.78 2.05 0 2.83L4 21.41c.39.39.9.59 1.41.59.51 0 1.02-.2 1.41-.59l7.78-7.78 2.81-2.81c.8-.78.8-2.07 0-2.86zM5.41 20L4 18.59l7.72-7.72 1.47 1.35L5.41 20z\"/>\n",
              "  </svg>\n",
              "      </button>\n",
              "      \n",
              "  <style>\n",
              "    .colab-df-container {\n",
              "      display:flex;\n",
              "      flex-wrap:wrap;\n",
              "      gap: 12px;\n",
              "    }\n",
              "\n",
              "    .colab-df-convert {\n",
              "      background-color: #E8F0FE;\n",
              "      border: none;\n",
              "      border-radius: 50%;\n",
              "      cursor: pointer;\n",
              "      display: none;\n",
              "      fill: #1967D2;\n",
              "      height: 32px;\n",
              "      padding: 0 0 0 0;\n",
              "      width: 32px;\n",
              "    }\n",
              "\n",
              "    .colab-df-convert:hover {\n",
              "      background-color: #E2EBFA;\n",
              "      box-shadow: 0px 1px 2px rgba(60, 64, 67, 0.3), 0px 1px 3px 1px rgba(60, 64, 67, 0.15);\n",
              "      fill: #174EA6;\n",
              "    }\n",
              "\n",
              "    [theme=dark] .colab-df-convert {\n",
              "      background-color: #3B4455;\n",
              "      fill: #D2E3FC;\n",
              "    }\n",
              "\n",
              "    [theme=dark] .colab-df-convert:hover {\n",
              "      background-color: #434B5C;\n",
              "      box-shadow: 0px 1px 3px 1px rgba(0, 0, 0, 0.15);\n",
              "      filter: drop-shadow(0px 1px 2px rgba(0, 0, 0, 0.3));\n",
              "      fill: #FFFFFF;\n",
              "    }\n",
              "  </style>\n",
              "\n",
              "      <script>\n",
              "        const buttonEl =\n",
              "          document.querySelector('#df-49c2ec36-fa55-4a38-b727-ff8adecf13b6 button.colab-df-convert');\n",
              "        buttonEl.style.display =\n",
              "          google.colab.kernel.accessAllowed ? 'block' : 'none';\n",
              "\n",
              "        async function convertToInteractive(key) {\n",
              "          const element = document.querySelector('#df-49c2ec36-fa55-4a38-b727-ff8adecf13b6');\n",
              "          const dataTable =\n",
              "            await google.colab.kernel.invokeFunction('convertToInteractive',\n",
              "                                                     [key], {});\n",
              "          if (!dataTable) return;\n",
              "\n",
              "          const docLinkHtml = 'Like what you see? Visit the ' +\n",
              "            '<a target=\"_blank\" href=https://colab.research.google.com/notebooks/data_table.ipynb>data table notebook</a>'\n",
              "            + ' to learn more about interactive tables.';\n",
              "          element.innerHTML = '';\n",
              "          dataTable['output_type'] = 'display_data';\n",
              "          await google.colab.output.renderOutput(dataTable, element);\n",
              "          const docLink = document.createElement('div');\n",
              "          docLink.innerHTML = docLinkHtml;\n",
              "          element.appendChild(docLink);\n",
              "        }\n",
              "      </script>\n",
              "    </div>\n",
              "  </div>\n",
              "  "
            ]
          },
          "metadata": {},
          "execution_count": 48
        }
      ]
    },
    {
      "cell_type": "code",
      "source": [],
      "metadata": {
        "id": "GQ8-t3jj-I-M"
      },
      "execution_count": null,
      "outputs": []
    },
    {
      "cell_type": "code",
      "source": [
        "df=df.dropna(subset=['score','price_range','lat','lng','position'])\n",
        "df"
      ],
      "metadata": {
        "colab": {
          "base_uri": "https://localhost:8080/",
          "height": 837
        },
        "id": "EmYQlqBS7muE",
        "outputId": "01f35367-1889-4f89-aa73-0afb26775bf8"
      },
      "execution_count": null,
      "outputs": [
        {
          "output_type": "execute_result",
          "data": {
            "text/plain": [
              "          id  position                                         name  score  \\\n",
              "6          7        27                                 Jinsei Sushi    4.7   \n",
              "13        14        51                 Panera (521 Fieldstown Road)    4.6   \n",
              "15        16        88     Jeni's Splendid Ice Cream (Pepper Place)    5.0   \n",
              "18        19        30                                 Falafel Cafe    4.9   \n",
              "19        20        40               MrBeast Burger (838 Odum Road)    3.7   \n",
              "...      ...       ...                                          ...    ...   \n",
              "40222  40223        54  Mangia la pasta! (5610 N Interstate Hwy 35)    4.8   \n",
              "40223  40224        53                Wholly Cow Burgers  (S Lamar)    4.6   \n",
              "40224  40225        52                              EurAsia Ramen 3    4.7   \n",
              "40225  40226        51                     Austin's Habibi (5th St)    4.7   \n",
              "40226  40227        50                                  Beijing Wok    4.4   \n",
              "\n",
              "       ratings                                           category price_range  \\\n",
              "6         63.0                             Sushi, Asian, Japanese           $   \n",
              "13        44.0  Breakfast and Brunch, salad, Sandwich, Family ...           $   \n",
              "15        20.0  Ice Cream &amp; Frozen Yogurt, Comfort Food, D...         $$$   \n",
              "18        48.0  Middle Eastern, Mediterranean, Vegetarian, Gre...           $   \n",
              "19        19.0                        American, Burgers, Sandwich          $$   \n",
              "...        ...                                                ...         ...   \n",
              "40222    500.0       Pasta, Comfort Food, Italian, Group Friendly           $   \n",
              "40223    245.0  American, Burgers, Breakfast and Brunch, Aller...           $   \n",
              "40224    293.0  Sushi, Asian, Japanese, Exclusive to Eats, Gro...           $   \n",
              "40225    208.0  Mediterranean, Gluten Free Friendly, Allergy F...          $$   \n",
              "40226    254.0  Chinese, Asian, Asian Fusion, Family Friendly,...           $   \n",
              "\n",
              "                                     full_address zip_code        lat  \\\n",
              "6          1830 29th Ave S, Birmingham, AL, 35209    35209  33.480440   \n",
              "13     521 Fieldstown Road, Gardendale, AL, 35071    35071  33.651407   \n",
              "15           219 29th St S, Birmingham, AL, 35233    35233  33.516600   \n",
              "18           401 19th St S, Birmingham, AL, 35233    35233  33.508353   \n",
              "19           838 Odum Road, Gardendale, AL, 35071    35071  33.645480   \n",
              "...                                           ...      ...        ...   \n",
              "40222               5610 N I35, Austin, TX, 78751    78751  30.316248   \n",
              "40223        3010 S Lamar Blvd, Austin, TX, 78704    78704  30.242816   \n",
              "40224         5222 Burnet Road, Austin, TX, 78756    78756  30.324290   \n",
              "40225             817 W 5th St, Austin, TX, 78703    78703  30.269580   \n",
              "40226           8106 Brodie Ln, Austin, TX, 78749    78749  30.202210   \n",
              "\n",
              "             lng  \n",
              "6     -86.790440  \n",
              "13    -86.819247  \n",
              "15    -86.789950  \n",
              "18    -86.803170  \n",
              "19    -86.826260  \n",
              "...          ...  \n",
              "40222 -97.708441  \n",
              "40223 -97.783821  \n",
              "40224 -97.740200  \n",
              "40225 -97.753110  \n",
              "40226 -97.838689  \n",
              "\n",
              "[19185 rows x 11 columns]"
            ],
            "text/html": [
              "\n",
              "  <div id=\"df-cb205e77-b906-4d7e-ae1f-189ce1c0efec\">\n",
              "    <div class=\"colab-df-container\">\n",
              "      <div>\n",
              "<style scoped>\n",
              "    .dataframe tbody tr th:only-of-type {\n",
              "        vertical-align: middle;\n",
              "    }\n",
              "\n",
              "    .dataframe tbody tr th {\n",
              "        vertical-align: top;\n",
              "    }\n",
              "\n",
              "    .dataframe thead th {\n",
              "        text-align: right;\n",
              "    }\n",
              "</style>\n",
              "<table border=\"1\" class=\"dataframe\">\n",
              "  <thead>\n",
              "    <tr style=\"text-align: right;\">\n",
              "      <th></th>\n",
              "      <th>id</th>\n",
              "      <th>position</th>\n",
              "      <th>name</th>\n",
              "      <th>score</th>\n",
              "      <th>ratings</th>\n",
              "      <th>category</th>\n",
              "      <th>price_range</th>\n",
              "      <th>full_address</th>\n",
              "      <th>zip_code</th>\n",
              "      <th>lat</th>\n",
              "      <th>lng</th>\n",
              "    </tr>\n",
              "  </thead>\n",
              "  <tbody>\n",
              "    <tr>\n",
              "      <th>6</th>\n",
              "      <td>7</td>\n",
              "      <td>27</td>\n",
              "      <td>Jinsei Sushi</td>\n",
              "      <td>4.7</td>\n",
              "      <td>63.0</td>\n",
              "      <td>Sushi, Asian, Japanese</td>\n",
              "      <td>$</td>\n",
              "      <td>1830 29th Ave S, Birmingham, AL, 35209</td>\n",
              "      <td>35209</td>\n",
              "      <td>33.480440</td>\n",
              "      <td>-86.790440</td>\n",
              "    </tr>\n",
              "    <tr>\n",
              "      <th>13</th>\n",
              "      <td>14</td>\n",
              "      <td>51</td>\n",
              "      <td>Panera (521 Fieldstown Road)</td>\n",
              "      <td>4.6</td>\n",
              "      <td>44.0</td>\n",
              "      <td>Breakfast and Brunch, salad, Sandwich, Family ...</td>\n",
              "      <td>$</td>\n",
              "      <td>521 Fieldstown Road, Gardendale, AL, 35071</td>\n",
              "      <td>35071</td>\n",
              "      <td>33.651407</td>\n",
              "      <td>-86.819247</td>\n",
              "    </tr>\n",
              "    <tr>\n",
              "      <th>15</th>\n",
              "      <td>16</td>\n",
              "      <td>88</td>\n",
              "      <td>Jeni's Splendid Ice Cream (Pepper Place)</td>\n",
              "      <td>5.0</td>\n",
              "      <td>20.0</td>\n",
              "      <td>Ice Cream &amp;amp; Frozen Yogurt, Comfort Food, D...</td>\n",
              "      <td>$$$</td>\n",
              "      <td>219 29th St S, Birmingham, AL, 35233</td>\n",
              "      <td>35233</td>\n",
              "      <td>33.516600</td>\n",
              "      <td>-86.789950</td>\n",
              "    </tr>\n",
              "    <tr>\n",
              "      <th>18</th>\n",
              "      <td>19</td>\n",
              "      <td>30</td>\n",
              "      <td>Falafel Cafe</td>\n",
              "      <td>4.9</td>\n",
              "      <td>48.0</td>\n",
              "      <td>Middle Eastern, Mediterranean, Vegetarian, Gre...</td>\n",
              "      <td>$</td>\n",
              "      <td>401 19th St S, Birmingham, AL, 35233</td>\n",
              "      <td>35233</td>\n",
              "      <td>33.508353</td>\n",
              "      <td>-86.803170</td>\n",
              "    </tr>\n",
              "    <tr>\n",
              "      <th>19</th>\n",
              "      <td>20</td>\n",
              "      <td>40</td>\n",
              "      <td>MrBeast Burger (838 Odum Road)</td>\n",
              "      <td>3.7</td>\n",
              "      <td>19.0</td>\n",
              "      <td>American, Burgers, Sandwich</td>\n",
              "      <td>$$</td>\n",
              "      <td>838 Odum Road, Gardendale, AL, 35071</td>\n",
              "      <td>35071</td>\n",
              "      <td>33.645480</td>\n",
              "      <td>-86.826260</td>\n",
              "    </tr>\n",
              "    <tr>\n",
              "      <th>...</th>\n",
              "      <td>...</td>\n",
              "      <td>...</td>\n",
              "      <td>...</td>\n",
              "      <td>...</td>\n",
              "      <td>...</td>\n",
              "      <td>...</td>\n",
              "      <td>...</td>\n",
              "      <td>...</td>\n",
              "      <td>...</td>\n",
              "      <td>...</td>\n",
              "      <td>...</td>\n",
              "    </tr>\n",
              "    <tr>\n",
              "      <th>40222</th>\n",
              "      <td>40223</td>\n",
              "      <td>54</td>\n",
              "      <td>Mangia la pasta! (5610 N Interstate Hwy 35)</td>\n",
              "      <td>4.8</td>\n",
              "      <td>500.0</td>\n",
              "      <td>Pasta, Comfort Food, Italian, Group Friendly</td>\n",
              "      <td>$</td>\n",
              "      <td>5610 N I35, Austin, TX, 78751</td>\n",
              "      <td>78751</td>\n",
              "      <td>30.316248</td>\n",
              "      <td>-97.708441</td>\n",
              "    </tr>\n",
              "    <tr>\n",
              "      <th>40223</th>\n",
              "      <td>40224</td>\n",
              "      <td>53</td>\n",
              "      <td>Wholly Cow Burgers  (S Lamar)</td>\n",
              "      <td>4.6</td>\n",
              "      <td>245.0</td>\n",
              "      <td>American, Burgers, Breakfast and Brunch, Aller...</td>\n",
              "      <td>$</td>\n",
              "      <td>3010 S Lamar Blvd, Austin, TX, 78704</td>\n",
              "      <td>78704</td>\n",
              "      <td>30.242816</td>\n",
              "      <td>-97.783821</td>\n",
              "    </tr>\n",
              "    <tr>\n",
              "      <th>40224</th>\n",
              "      <td>40225</td>\n",
              "      <td>52</td>\n",
              "      <td>EurAsia Ramen 3</td>\n",
              "      <td>4.7</td>\n",
              "      <td>293.0</td>\n",
              "      <td>Sushi, Asian, Japanese, Exclusive to Eats, Gro...</td>\n",
              "      <td>$</td>\n",
              "      <td>5222 Burnet Road, Austin, TX, 78756</td>\n",
              "      <td>78756</td>\n",
              "      <td>30.324290</td>\n",
              "      <td>-97.740200</td>\n",
              "    </tr>\n",
              "    <tr>\n",
              "      <th>40225</th>\n",
              "      <td>40226</td>\n",
              "      <td>51</td>\n",
              "      <td>Austin's Habibi (5th St)</td>\n",
              "      <td>4.7</td>\n",
              "      <td>208.0</td>\n",
              "      <td>Mediterranean, Gluten Free Friendly, Allergy F...</td>\n",
              "      <td>$$</td>\n",
              "      <td>817 W 5th St, Austin, TX, 78703</td>\n",
              "      <td>78703</td>\n",
              "      <td>30.269580</td>\n",
              "      <td>-97.753110</td>\n",
              "    </tr>\n",
              "    <tr>\n",
              "      <th>40226</th>\n",
              "      <td>40227</td>\n",
              "      <td>50</td>\n",
              "      <td>Beijing Wok</td>\n",
              "      <td>4.4</td>\n",
              "      <td>254.0</td>\n",
              "      <td>Chinese, Asian, Asian Fusion, Family Friendly,...</td>\n",
              "      <td>$</td>\n",
              "      <td>8106 Brodie Ln, Austin, TX, 78749</td>\n",
              "      <td>78749</td>\n",
              "      <td>30.202210</td>\n",
              "      <td>-97.838689</td>\n",
              "    </tr>\n",
              "  </tbody>\n",
              "</table>\n",
              "<p>19185 rows × 11 columns</p>\n",
              "</div>\n",
              "      <button class=\"colab-df-convert\" onclick=\"convertToInteractive('df-cb205e77-b906-4d7e-ae1f-189ce1c0efec')\"\n",
              "              title=\"Convert this dataframe to an interactive table.\"\n",
              "              style=\"display:none;\">\n",
              "        \n",
              "  <svg xmlns=\"http://www.w3.org/2000/svg\" height=\"24px\"viewBox=\"0 0 24 24\"\n",
              "       width=\"24px\">\n",
              "    <path d=\"M0 0h24v24H0V0z\" fill=\"none\"/>\n",
              "    <path d=\"M18.56 5.44l.94 2.06.94-2.06 2.06-.94-2.06-.94-.94-2.06-.94 2.06-2.06.94zm-11 1L8.5 8.5l.94-2.06 2.06-.94-2.06-.94L8.5 2.5l-.94 2.06-2.06.94zm10 10l.94 2.06.94-2.06 2.06-.94-2.06-.94-.94-2.06-.94 2.06-2.06.94z\"/><path d=\"M17.41 7.96l-1.37-1.37c-.4-.4-.92-.59-1.43-.59-.52 0-1.04.2-1.43.59L10.3 9.45l-7.72 7.72c-.78.78-.78 2.05 0 2.83L4 21.41c.39.39.9.59 1.41.59.51 0 1.02-.2 1.41-.59l7.78-7.78 2.81-2.81c.8-.78.8-2.07 0-2.86zM5.41 20L4 18.59l7.72-7.72 1.47 1.35L5.41 20z\"/>\n",
              "  </svg>\n",
              "      </button>\n",
              "      \n",
              "  <style>\n",
              "    .colab-df-container {\n",
              "      display:flex;\n",
              "      flex-wrap:wrap;\n",
              "      gap: 12px;\n",
              "    }\n",
              "\n",
              "    .colab-df-convert {\n",
              "      background-color: #E8F0FE;\n",
              "      border: none;\n",
              "      border-radius: 50%;\n",
              "      cursor: pointer;\n",
              "      display: none;\n",
              "      fill: #1967D2;\n",
              "      height: 32px;\n",
              "      padding: 0 0 0 0;\n",
              "      width: 32px;\n",
              "    }\n",
              "\n",
              "    .colab-df-convert:hover {\n",
              "      background-color: #E2EBFA;\n",
              "      box-shadow: 0px 1px 2px rgba(60, 64, 67, 0.3), 0px 1px 3px 1px rgba(60, 64, 67, 0.15);\n",
              "      fill: #174EA6;\n",
              "    }\n",
              "\n",
              "    [theme=dark] .colab-df-convert {\n",
              "      background-color: #3B4455;\n",
              "      fill: #D2E3FC;\n",
              "    }\n",
              "\n",
              "    [theme=dark] .colab-df-convert:hover {\n",
              "      background-color: #434B5C;\n",
              "      box-shadow: 0px 1px 3px 1px rgba(0, 0, 0, 0.15);\n",
              "      filter: drop-shadow(0px 1px 2px rgba(0, 0, 0, 0.3));\n",
              "      fill: #FFFFFF;\n",
              "    }\n",
              "  </style>\n",
              "\n",
              "      <script>\n",
              "        const buttonEl =\n",
              "          document.querySelector('#df-cb205e77-b906-4d7e-ae1f-189ce1c0efec button.colab-df-convert');\n",
              "        buttonEl.style.display =\n",
              "          google.colab.kernel.accessAllowed ? 'block' : 'none';\n",
              "\n",
              "        async function convertToInteractive(key) {\n",
              "          const element = document.querySelector('#df-cb205e77-b906-4d7e-ae1f-189ce1c0efec');\n",
              "          const dataTable =\n",
              "            await google.colab.kernel.invokeFunction('convertToInteractive',\n",
              "                                                     [key], {});\n",
              "          if (!dataTable) return;\n",
              "\n",
              "          const docLinkHtml = 'Like what you see? Visit the ' +\n",
              "            '<a target=\"_blank\" href=https://colab.research.google.com/notebooks/data_table.ipynb>data table notebook</a>'\n",
              "            + ' to learn more about interactive tables.';\n",
              "          element.innerHTML = '';\n",
              "          dataTable['output_type'] = 'display_data';\n",
              "          await google.colab.output.renderOutput(dataTable, element);\n",
              "          const docLink = document.createElement('div');\n",
              "          docLink.innerHTML = docLinkHtml;\n",
              "          element.appendChild(docLink);\n",
              "        }\n",
              "      </script>\n",
              "    </div>\n",
              "  </div>\n",
              "  "
            ]
          },
          "metadata": {},
          "execution_count": 49
        }
      ]
    },
    {
      "cell_type": "code",
      "source": [
        "df['price_range']=df['price_range'].apply(lambda x : 1 if x == \"$\" else 2 if x=='$$' else 3)\n",
        "df\n"
      ],
      "metadata": {
        "colab": {
          "base_uri": "https://localhost:8080/",
          "height": 959
        },
        "id": "XbfJIEkt7vld",
        "outputId": "efac072a-fa75-4f2a-a2a1-681a00bd0c89"
      },
      "execution_count": null,
      "outputs": [
        {
          "output_type": "stream",
          "name": "stderr",
          "text": [
            "<ipython-input-50-97b07ddbf7e7>:1: SettingWithCopyWarning: \n",
            "A value is trying to be set on a copy of a slice from a DataFrame.\n",
            "Try using .loc[row_indexer,col_indexer] = value instead\n",
            "\n",
            "See the caveats in the documentation: https://pandas.pydata.org/pandas-docs/stable/user_guide/indexing.html#returning-a-view-versus-a-copy\n",
            "  df['price_range']=df['price_range'].apply(lambda x : 1 if x == \"$\" else 2 if x=='$$' else 3)\n"
          ]
        },
        {
          "output_type": "execute_result",
          "data": {
            "text/plain": [
              "          id  position                                         name  score  \\\n",
              "6          7        27                                 Jinsei Sushi    4.7   \n",
              "13        14        51                 Panera (521 Fieldstown Road)    4.6   \n",
              "15        16        88     Jeni's Splendid Ice Cream (Pepper Place)    5.0   \n",
              "18        19        30                                 Falafel Cafe    4.9   \n",
              "19        20        40               MrBeast Burger (838 Odum Road)    3.7   \n",
              "...      ...       ...                                          ...    ...   \n",
              "40222  40223        54  Mangia la pasta! (5610 N Interstate Hwy 35)    4.8   \n",
              "40223  40224        53                Wholly Cow Burgers  (S Lamar)    4.6   \n",
              "40224  40225        52                              EurAsia Ramen 3    4.7   \n",
              "40225  40226        51                     Austin's Habibi (5th St)    4.7   \n",
              "40226  40227        50                                  Beijing Wok    4.4   \n",
              "\n",
              "       ratings                                           category  \\\n",
              "6         63.0                             Sushi, Asian, Japanese   \n",
              "13        44.0  Breakfast and Brunch, salad, Sandwich, Family ...   \n",
              "15        20.0  Ice Cream &amp; Frozen Yogurt, Comfort Food, D...   \n",
              "18        48.0  Middle Eastern, Mediterranean, Vegetarian, Gre...   \n",
              "19        19.0                        American, Burgers, Sandwich   \n",
              "...        ...                                                ...   \n",
              "40222    500.0       Pasta, Comfort Food, Italian, Group Friendly   \n",
              "40223    245.0  American, Burgers, Breakfast and Brunch, Aller...   \n",
              "40224    293.0  Sushi, Asian, Japanese, Exclusive to Eats, Gro...   \n",
              "40225    208.0  Mediterranean, Gluten Free Friendly, Allergy F...   \n",
              "40226    254.0  Chinese, Asian, Asian Fusion, Family Friendly,...   \n",
              "\n",
              "       price_range                                full_address zip_code  \\\n",
              "6                1      1830 29th Ave S, Birmingham, AL, 35209    35209   \n",
              "13               1  521 Fieldstown Road, Gardendale, AL, 35071    35071   \n",
              "15               3        219 29th St S, Birmingham, AL, 35233    35233   \n",
              "18               1        401 19th St S, Birmingham, AL, 35233    35233   \n",
              "19               2        838 Odum Road, Gardendale, AL, 35071    35071   \n",
              "...            ...                                         ...      ...   \n",
              "40222            1               5610 N I35, Austin, TX, 78751    78751   \n",
              "40223            1        3010 S Lamar Blvd, Austin, TX, 78704    78704   \n",
              "40224            1         5222 Burnet Road, Austin, TX, 78756    78756   \n",
              "40225            2             817 W 5th St, Austin, TX, 78703    78703   \n",
              "40226            1           8106 Brodie Ln, Austin, TX, 78749    78749   \n",
              "\n",
              "             lat        lng  \n",
              "6      33.480440 -86.790440  \n",
              "13     33.651407 -86.819247  \n",
              "15     33.516600 -86.789950  \n",
              "18     33.508353 -86.803170  \n",
              "19     33.645480 -86.826260  \n",
              "...          ...        ...  \n",
              "40222  30.316248 -97.708441  \n",
              "40223  30.242816 -97.783821  \n",
              "40224  30.324290 -97.740200  \n",
              "40225  30.269580 -97.753110  \n",
              "40226  30.202210 -97.838689  \n",
              "\n",
              "[19185 rows x 11 columns]"
            ],
            "text/html": [
              "\n",
              "  <div id=\"df-de17d7ea-c91a-4b9d-bc6b-6a8543342658\">\n",
              "    <div class=\"colab-df-container\">\n",
              "      <div>\n",
              "<style scoped>\n",
              "    .dataframe tbody tr th:only-of-type {\n",
              "        vertical-align: middle;\n",
              "    }\n",
              "\n",
              "    .dataframe tbody tr th {\n",
              "        vertical-align: top;\n",
              "    }\n",
              "\n",
              "    .dataframe thead th {\n",
              "        text-align: right;\n",
              "    }\n",
              "</style>\n",
              "<table border=\"1\" class=\"dataframe\">\n",
              "  <thead>\n",
              "    <tr style=\"text-align: right;\">\n",
              "      <th></th>\n",
              "      <th>id</th>\n",
              "      <th>position</th>\n",
              "      <th>name</th>\n",
              "      <th>score</th>\n",
              "      <th>ratings</th>\n",
              "      <th>category</th>\n",
              "      <th>price_range</th>\n",
              "      <th>full_address</th>\n",
              "      <th>zip_code</th>\n",
              "      <th>lat</th>\n",
              "      <th>lng</th>\n",
              "    </tr>\n",
              "  </thead>\n",
              "  <tbody>\n",
              "    <tr>\n",
              "      <th>6</th>\n",
              "      <td>7</td>\n",
              "      <td>27</td>\n",
              "      <td>Jinsei Sushi</td>\n",
              "      <td>4.7</td>\n",
              "      <td>63.0</td>\n",
              "      <td>Sushi, Asian, Japanese</td>\n",
              "      <td>1</td>\n",
              "      <td>1830 29th Ave S, Birmingham, AL, 35209</td>\n",
              "      <td>35209</td>\n",
              "      <td>33.480440</td>\n",
              "      <td>-86.790440</td>\n",
              "    </tr>\n",
              "    <tr>\n",
              "      <th>13</th>\n",
              "      <td>14</td>\n",
              "      <td>51</td>\n",
              "      <td>Panera (521 Fieldstown Road)</td>\n",
              "      <td>4.6</td>\n",
              "      <td>44.0</td>\n",
              "      <td>Breakfast and Brunch, salad, Sandwich, Family ...</td>\n",
              "      <td>1</td>\n",
              "      <td>521 Fieldstown Road, Gardendale, AL, 35071</td>\n",
              "      <td>35071</td>\n",
              "      <td>33.651407</td>\n",
              "      <td>-86.819247</td>\n",
              "    </tr>\n",
              "    <tr>\n",
              "      <th>15</th>\n",
              "      <td>16</td>\n",
              "      <td>88</td>\n",
              "      <td>Jeni's Splendid Ice Cream (Pepper Place)</td>\n",
              "      <td>5.0</td>\n",
              "      <td>20.0</td>\n",
              "      <td>Ice Cream &amp;amp; Frozen Yogurt, Comfort Food, D...</td>\n",
              "      <td>3</td>\n",
              "      <td>219 29th St S, Birmingham, AL, 35233</td>\n",
              "      <td>35233</td>\n",
              "      <td>33.516600</td>\n",
              "      <td>-86.789950</td>\n",
              "    </tr>\n",
              "    <tr>\n",
              "      <th>18</th>\n",
              "      <td>19</td>\n",
              "      <td>30</td>\n",
              "      <td>Falafel Cafe</td>\n",
              "      <td>4.9</td>\n",
              "      <td>48.0</td>\n",
              "      <td>Middle Eastern, Mediterranean, Vegetarian, Gre...</td>\n",
              "      <td>1</td>\n",
              "      <td>401 19th St S, Birmingham, AL, 35233</td>\n",
              "      <td>35233</td>\n",
              "      <td>33.508353</td>\n",
              "      <td>-86.803170</td>\n",
              "    </tr>\n",
              "    <tr>\n",
              "      <th>19</th>\n",
              "      <td>20</td>\n",
              "      <td>40</td>\n",
              "      <td>MrBeast Burger (838 Odum Road)</td>\n",
              "      <td>3.7</td>\n",
              "      <td>19.0</td>\n",
              "      <td>American, Burgers, Sandwich</td>\n",
              "      <td>2</td>\n",
              "      <td>838 Odum Road, Gardendale, AL, 35071</td>\n",
              "      <td>35071</td>\n",
              "      <td>33.645480</td>\n",
              "      <td>-86.826260</td>\n",
              "    </tr>\n",
              "    <tr>\n",
              "      <th>...</th>\n",
              "      <td>...</td>\n",
              "      <td>...</td>\n",
              "      <td>...</td>\n",
              "      <td>...</td>\n",
              "      <td>...</td>\n",
              "      <td>...</td>\n",
              "      <td>...</td>\n",
              "      <td>...</td>\n",
              "      <td>...</td>\n",
              "      <td>...</td>\n",
              "      <td>...</td>\n",
              "    </tr>\n",
              "    <tr>\n",
              "      <th>40222</th>\n",
              "      <td>40223</td>\n",
              "      <td>54</td>\n",
              "      <td>Mangia la pasta! (5610 N Interstate Hwy 35)</td>\n",
              "      <td>4.8</td>\n",
              "      <td>500.0</td>\n",
              "      <td>Pasta, Comfort Food, Italian, Group Friendly</td>\n",
              "      <td>1</td>\n",
              "      <td>5610 N I35, Austin, TX, 78751</td>\n",
              "      <td>78751</td>\n",
              "      <td>30.316248</td>\n",
              "      <td>-97.708441</td>\n",
              "    </tr>\n",
              "    <tr>\n",
              "      <th>40223</th>\n",
              "      <td>40224</td>\n",
              "      <td>53</td>\n",
              "      <td>Wholly Cow Burgers  (S Lamar)</td>\n",
              "      <td>4.6</td>\n",
              "      <td>245.0</td>\n",
              "      <td>American, Burgers, Breakfast and Brunch, Aller...</td>\n",
              "      <td>1</td>\n",
              "      <td>3010 S Lamar Blvd, Austin, TX, 78704</td>\n",
              "      <td>78704</td>\n",
              "      <td>30.242816</td>\n",
              "      <td>-97.783821</td>\n",
              "    </tr>\n",
              "    <tr>\n",
              "      <th>40224</th>\n",
              "      <td>40225</td>\n",
              "      <td>52</td>\n",
              "      <td>EurAsia Ramen 3</td>\n",
              "      <td>4.7</td>\n",
              "      <td>293.0</td>\n",
              "      <td>Sushi, Asian, Japanese, Exclusive to Eats, Gro...</td>\n",
              "      <td>1</td>\n",
              "      <td>5222 Burnet Road, Austin, TX, 78756</td>\n",
              "      <td>78756</td>\n",
              "      <td>30.324290</td>\n",
              "      <td>-97.740200</td>\n",
              "    </tr>\n",
              "    <tr>\n",
              "      <th>40225</th>\n",
              "      <td>40226</td>\n",
              "      <td>51</td>\n",
              "      <td>Austin's Habibi (5th St)</td>\n",
              "      <td>4.7</td>\n",
              "      <td>208.0</td>\n",
              "      <td>Mediterranean, Gluten Free Friendly, Allergy F...</td>\n",
              "      <td>2</td>\n",
              "      <td>817 W 5th St, Austin, TX, 78703</td>\n",
              "      <td>78703</td>\n",
              "      <td>30.269580</td>\n",
              "      <td>-97.753110</td>\n",
              "    </tr>\n",
              "    <tr>\n",
              "      <th>40226</th>\n",
              "      <td>40227</td>\n",
              "      <td>50</td>\n",
              "      <td>Beijing Wok</td>\n",
              "      <td>4.4</td>\n",
              "      <td>254.0</td>\n",
              "      <td>Chinese, Asian, Asian Fusion, Family Friendly,...</td>\n",
              "      <td>1</td>\n",
              "      <td>8106 Brodie Ln, Austin, TX, 78749</td>\n",
              "      <td>78749</td>\n",
              "      <td>30.202210</td>\n",
              "      <td>-97.838689</td>\n",
              "    </tr>\n",
              "  </tbody>\n",
              "</table>\n",
              "<p>19185 rows × 11 columns</p>\n",
              "</div>\n",
              "      <button class=\"colab-df-convert\" onclick=\"convertToInteractive('df-de17d7ea-c91a-4b9d-bc6b-6a8543342658')\"\n",
              "              title=\"Convert this dataframe to an interactive table.\"\n",
              "              style=\"display:none;\">\n",
              "        \n",
              "  <svg xmlns=\"http://www.w3.org/2000/svg\" height=\"24px\"viewBox=\"0 0 24 24\"\n",
              "       width=\"24px\">\n",
              "    <path d=\"M0 0h24v24H0V0z\" fill=\"none\"/>\n",
              "    <path d=\"M18.56 5.44l.94 2.06.94-2.06 2.06-.94-2.06-.94-.94-2.06-.94 2.06-2.06.94zm-11 1L8.5 8.5l.94-2.06 2.06-.94-2.06-.94L8.5 2.5l-.94 2.06-2.06.94zm10 10l.94 2.06.94-2.06 2.06-.94-2.06-.94-.94-2.06-.94 2.06-2.06.94z\"/><path d=\"M17.41 7.96l-1.37-1.37c-.4-.4-.92-.59-1.43-.59-.52 0-1.04.2-1.43.59L10.3 9.45l-7.72 7.72c-.78.78-.78 2.05 0 2.83L4 21.41c.39.39.9.59 1.41.59.51 0 1.02-.2 1.41-.59l7.78-7.78 2.81-2.81c.8-.78.8-2.07 0-2.86zM5.41 20L4 18.59l7.72-7.72 1.47 1.35L5.41 20z\"/>\n",
              "  </svg>\n",
              "      </button>\n",
              "      \n",
              "  <style>\n",
              "    .colab-df-container {\n",
              "      display:flex;\n",
              "      flex-wrap:wrap;\n",
              "      gap: 12px;\n",
              "    }\n",
              "\n",
              "    .colab-df-convert {\n",
              "      background-color: #E8F0FE;\n",
              "      border: none;\n",
              "      border-radius: 50%;\n",
              "      cursor: pointer;\n",
              "      display: none;\n",
              "      fill: #1967D2;\n",
              "      height: 32px;\n",
              "      padding: 0 0 0 0;\n",
              "      width: 32px;\n",
              "    }\n",
              "\n",
              "    .colab-df-convert:hover {\n",
              "      background-color: #E2EBFA;\n",
              "      box-shadow: 0px 1px 2px rgba(60, 64, 67, 0.3), 0px 1px 3px 1px rgba(60, 64, 67, 0.15);\n",
              "      fill: #174EA6;\n",
              "    }\n",
              "\n",
              "    [theme=dark] .colab-df-convert {\n",
              "      background-color: #3B4455;\n",
              "      fill: #D2E3FC;\n",
              "    }\n",
              "\n",
              "    [theme=dark] .colab-df-convert:hover {\n",
              "      background-color: #434B5C;\n",
              "      box-shadow: 0px 1px 3px 1px rgba(0, 0, 0, 0.15);\n",
              "      filter: drop-shadow(0px 1px 2px rgba(0, 0, 0, 0.3));\n",
              "      fill: #FFFFFF;\n",
              "    }\n",
              "  </style>\n",
              "\n",
              "      <script>\n",
              "        const buttonEl =\n",
              "          document.querySelector('#df-de17d7ea-c91a-4b9d-bc6b-6a8543342658 button.colab-df-convert');\n",
              "        buttonEl.style.display =\n",
              "          google.colab.kernel.accessAllowed ? 'block' : 'none';\n",
              "\n",
              "        async function convertToInteractive(key) {\n",
              "          const element = document.querySelector('#df-de17d7ea-c91a-4b9d-bc6b-6a8543342658');\n",
              "          const dataTable =\n",
              "            await google.colab.kernel.invokeFunction('convertToInteractive',\n",
              "                                                     [key], {});\n",
              "          if (!dataTable) return;\n",
              "\n",
              "          const docLinkHtml = 'Like what you see? Visit the ' +\n",
              "            '<a target=\"_blank\" href=https://colab.research.google.com/notebooks/data_table.ipynb>data table notebook</a>'\n",
              "            + ' to learn more about interactive tables.';\n",
              "          element.innerHTML = '';\n",
              "          dataTable['output_type'] = 'display_data';\n",
              "          await google.colab.output.renderOutput(dataTable, element);\n",
              "          const docLink = document.createElement('div');\n",
              "          docLink.innerHTML = docLinkHtml;\n",
              "          element.appendChild(docLink);\n",
              "        }\n",
              "      </script>\n",
              "    </div>\n",
              "  </div>\n",
              "  "
            ]
          },
          "metadata": {},
          "execution_count": 50
        }
      ]
    },
    {
      "cell_type": "markdown",
      "source": [
        "Scatterplots for each variable"
      ],
      "metadata": {
        "id": "DHSrA1EsX8yq"
      }
    },
    {
      "cell_type": "code",
      "source": [
        "plt.plot(df['position'],df['score'],'o')"
      ],
      "metadata": {
        "colab": {
          "base_uri": "https://localhost:8080/",
          "height": 282
        },
        "id": "c9se5pZGX6xJ",
        "outputId": "3692bd2b-0ae3-4604-df76-8aba9c65521c"
      },
      "execution_count": null,
      "outputs": [
        {
          "output_type": "execute_result",
          "data": {
            "text/plain": [
              "[<matplotlib.lines.Line2D at 0x7f7aa02cce50>]"
            ]
          },
          "metadata": {},
          "execution_count": 54
        },
        {
          "output_type": "display_data",
          "data": {
            "text/plain": [
              "<Figure size 432x288 with 1 Axes>"
            ],
            "image/png": "[encoded data removed]"
          },
          "metadata": {
            "needs_background": "light"
          }
        }
      ]
    },
    {
      "cell_type": "code",
      "source": [
        "plt.plot(df['price_range'],df['score'],'o')"
      ],
      "metadata": {
        "colab": {
          "base_uri": "https://localhost:8080/",
          "height": 282
        },
        "id": "Ms95OwR9p8rg",
        "outputId": "3fc2a377-07c4-450c-e75d-22449c7adc67"
      },
      "execution_count": null,
      "outputs": [
        {
          "output_type": "execute_result",
          "data": {
            "text/plain": [
              "[<matplotlib.lines.Line2D at 0x7f7a9fd98730>]"
            ]
          },
          "metadata": {},
          "execution_count": 101
        },
        {
          "output_type": "display_data",
          "data": {
            "text/plain": [
              "<Figure size 432x288 with 1 Axes>"
            ],
            "image/png": "[encoded data removed]"
          },
          "metadata": {
            "needs_background": "light"
          }
        }
      ]
    },
    {
      "cell_type": "code",
      "source": [
        "plt.plot(df['lat'],df['score'],'o')"
      ],
      "metadata": {
        "colab": {
          "base_uri": "https://localhost:8080/",
          "height": 282
        },
        "id": "C3qYJhLbqAd1",
        "outputId": "37196908-0db2-4293-aad4-e9d4da3cc89b"
      },
      "execution_count": null,
      "outputs": [
        {
          "output_type": "execute_result",
          "data": {
            "text/plain": [
              "[<matplotlib.lines.Line2D at 0x7f7aa028b3a0>]"
            ]
          },
          "metadata": {},
          "execution_count": 102
        },
        {
          "output_type": "display_data",
          "data": {
            "text/plain": [
              "<Figure size 432x288 with 1 Axes>"
            ],
            "image/png": "[encoded data removed]"
          },
          "metadata": {
            "needs_background": "light"
          }
        }
      ]
    },
    {
      "cell_type": "code",
      "source": [
        "plt.plot(df['lng'],df['score'],'o')"
      ],
      "metadata": {
        "colab": {
          "base_uri": "https://localhost:8080/",
          "height": 282
        },
        "id": "MOsGJSK0qJaG",
        "outputId": "8fcd508e-83cd-40ff-cea3-9301f4fbd511"
      },
      "execution_count": null,
      "outputs": [
        {
          "output_type": "execute_result",
          "data": {
            "text/plain": [
              "[<matplotlib.lines.Line2D at 0x7f7aa00a0910>]"
            ]
          },
          "metadata": {},
          "execution_count": 103
        },
        {
          "output_type": "display_data",
          "data": {
            "text/plain": [
              "<Figure size 432x288 with 1 Axes>"
            ],
            "image/png": "[encoded data removed]"
          },
          "metadata": {
            "needs_background": "light"
          }
        }
      ]
    },
    {
      "cell_type": "code",
      "source": [
        "plt.plot(df['ratings'],df['score'],'o')"
      ],
      "metadata": {
        "colab": {
          "base_uri": "https://localhost:8080/",
          "height": 282
        },
        "id": "-N81NQRBqOx8",
        "outputId": "813f6faf-cf1f-49b4-efe9-300d182c478e"
      },
      "execution_count": null,
      "outputs": [
        {
          "output_type": "execute_result",
          "data": {
            "text/plain": [
              "[<matplotlib.lines.Line2D at 0x7f7aa03e63a0>]"
            ]
          },
          "metadata": {},
          "execution_count": 104
        },
        {
          "output_type": "display_data",
          "data": {
            "text/plain": [
              "<Figure size 432x288 with 1 Axes>"
            ],
            "image/png": "[encoded data removed]"
          },
          "metadata": {
            "needs_background": "light"
          }
        }
      ]
    },
    {
      "cell_type": "markdown",
      "source": [
        "4-Dimensional Scatterplot"
      ],
      "metadata": {
        "id": "JFGXvCrDqWjj"
      }
    },
    {
      "cell_type": "code",
      "source": [
        "df_new=pd.DataFrame({\n",
        "    'price_range': df['price_range'],\n",
        "    'ratings': df['ratings'],\n",
        "    'position': df['position'],\n",
        "    'lat':df['lat'],\n",
        "    'lng': df['lng']\n",
        "})\n",
        "data_df = df_new.melt(var_name='variables', value_name='values')\n",
        "df1=pd.DataFrame({'score':df['score']})\n",
        "df2=pd.DataFrame({'score':df['score']})\n",
        "df3=pd.DataFrame({'score':df['score']})\n",
        "df4=pd.DataFrame({'score':df['score']})\n",
        "df5=pd.DataFrame({'score':df['score']})\n",
        "DF=pd.concat([df1,df2,df3,df4],ignore_index = True, axis = 0)\n",
        "DF\n",
        "data_df['score']=DF['score']\n",
        "g = sns.relplot(\n",
        "    data=data_df,\n",
        "    x=\"values\", y=\"score\",\n",
        "    hue=\"variables\",size=\"score\"\n",
        ")\n"
      ],
      "metadata": {
        "colab": {
          "base_uri": "https://localhost:8080/",
          "height": 369
        },
        "id": "yhNqGhCJ4byV",
        "outputId": "f5ba2e52-6423-4202-b05d-0627bc48fe50"
      },
      "execution_count": null,
      "outputs": [
        {
          "output_type": "display_data",
          "data": {
            "text/plain": [
              "<Figure size 455x360 with 1 Axes>"
            ],
            "image/png": "[encoded data removed]"
          },
          "metadata": {
            "needs_background": "light"
          }
        }
      ]
    },
    {
      "cell_type": "markdown",
      "source": [
        " Regression"
      ],
      "metadata": {
        "id": "GubUZaETqb3H"
      }
    },
    {
      "cell_type": "code",
      "source": [
        "X = df[['price_range','ratings','position','lat','lng',]].values\n",
        "\n",
        "y = df['score'].values"
      ],
      "metadata": {
        "id": "hsOmFvfK76AB"
      },
      "execution_count": null,
      "outputs": []
    },
    {
      "cell_type": "code",
      "source": [
        "x = np.column_stack([np.ones(X.shape[0], dtype = 'int'), X])\n",
        "beta_hat = np.linalg.inv(x.T @ x) @ x.T @ y\n",
        "y_hat=x@beta_hat\n",
        "plt.plot(y,y_hat,'o')\n",
        "xa = np.vstack([y, np.ones(len(y))]).T\n",
        "ya= np.array(y_hat).reshape(len(y_hat),1)\n",
        "x1, resid, rank, s = np.linalg.lstsq(xa,ya,rcond=None)\n",
        "print(x1)\n",
        "plt.plot(y,(y*x1[0]+x1[1]))\n"
      ],
      "metadata": {
        "colab": {
          "base_uri": "https://localhost:8080/",
          "height": 316
        },
        "id": "ovsrlPvd7-Gc",
        "outputId": "ef47eea6-34a7-49bd-d5e7-5310b33d28c2"
      },
      "execution_count": null,
      "outputs": [
        {
          "output_type": "stream",
          "name": "stdout",
          "text": [
            "[[0.04709715]\n",
            " [4.34356316]]\n"
          ]
        },
        {
          "output_type": "execute_result",
          "data": {
            "text/plain": [
              "[<matplotlib.lines.Line2D at 0x7f7a9fdca0d0>]"
            ]
          },
          "metadata": {},
          "execution_count": 99
        },
        {
          "output_type": "display_data",
          "data": {
            "text/plain": [
              "<Figure size 432x288 with 1 Axes>"
            ],
            "image/png": "[encoded data removed]"
          },
          "metadata": {
            "needs_background": "light"
          }
        }
      ]
    },
    {
      "cell_type": "code",
      "source": [
        "s=0\n",
        "for i in range(len(y)): \n",
        "  s=s+((y_hat[i]-y[i])**2)\n",
        "mse=s/len(y)\n",
        "print(\"mean squared error:\", mse)\n",
        "print(\"root mean squared error:\", m.sqrt(mse))"
      ],
      "metadata": {
        "colab": {
          "base_uri": "https://localhost:8080/"
        },
        "id": "miiBgUZpcgtS",
        "outputId": "b828fead-3c8e-46d9-cb79-3db294e33b64"
      },
      "execution_count": null,
      "outputs": [
        {
          "output_type": "stream",
          "name": "stdout",
          "text": [
            "mean squared error: 0.0837212849422201\n",
            "root mean squared error: 0.28934630625293994\n"
          ]
        }
      ]
    },
    {
      "cell_type": "markdown",
      "source": [
        "###Result \n",
        "The final model has a mean squared error of .083721\n",
        "and root mean squared error of .2893\n",
        "For the data of the given restaurants the data has a low root mean squared value which signifies that the data performs really well in predicting the scores of the given restaurants based on ratings, latitude, longitude, price range and position.  "
      ],
      "metadata": {
        "id": "v_ysBjHiFOD-"
      }
    },
    {
      "cell_type": "markdown",
      "source": [
        "###Conclusion\n",
        "I completed this project by performing regression. My steps included finding the restaurant data set, cleaning the data, creating visualizations and performing regression\n",
        "\n",
        "My final model provides a good fit where it perform well on predicting the score of the restaurants based on multiple factors.\n",
        "\n",
        "I tried using a few different sets of variables(reducing the number of variables) but this was the best model. "
      ],
      "metadata": {
        "id": "4vaAhr33FVTj"
      }
    },
    {
      "cell_type": "markdown",
      "source": [
        "###References \n",
        "**Machine Learning**\n",
        "\n",
        "\n",
        "*   Scikit-Learn\n",
        "\n",
        "\n",
        "**Data Processing**\n",
        "\n",
        "\n",
        "*   Pandas \n",
        "*   NumPy\n",
        "\n",
        "**Data Visualization**\n",
        "\n",
        "*   Matplotlib\n",
        "*   Seaborn \n",
        "\n",
        "\n",
        "\n",
        "\n",
        "\n"
      ],
      "metadata": {
        "id": "ODok0aydETVf"
      }
    }
  ]
}